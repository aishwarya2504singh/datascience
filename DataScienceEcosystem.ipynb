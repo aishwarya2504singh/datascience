{
 "cells": [
  {
   "cell_type": "markdown",
   "id": "cecb99ae-4981-40c9-9667-1dfa1a3ee56d",
   "metadata": {},
   "source": [
    "#Data Science Tools and Ecosystem"
   ]
  },
  {
   "cell_type": "markdown",
   "id": "b12c8796-31cc-499a-b62f-050d7a75a1ca",
   "metadata": {},
   "source": [
    "#Introduction\n",
    "Welcome to our project! In this document, we will explore various topics and provide information on our research, findings, and recommendations.  "
   ]
  },
  {
   "cell_type": "markdown",
   "id": "a3d67cb9-47ab-42cb-ba52-3e7ce43f7dde",
   "metadata": {},
   "source": [
    "##Objectives\n",
    "**List popular languages for Data Science**: We've introduced and highlighted some of the key programming languages used in the field of Data Science.\n",
    "**Explore Data Science Libraries**: We've discussed essential data science libraries in Python that are commonly used for data analysis and machine learning.\n",
    "**Introduce Data Science Tools**: We've provided an overview of various data science tools and software commonly used by data scientists and analysts.\n",
    "**Introduction to Arithmatic Operations**: We've explained the fundamemtal concept of addition,subtraction,multiplication and division in mathematics.\n",
    "**Perform Basic Mathematical Operations**: We've demonstrated how to perform basic mathematical operations using code."
   ]
  },
  {
   "cell_type": "markdown",
   "id": "5025e25e-b525-496a-8d5d-578f38a07fed",
   "metadata": {},
   "source": [
    "##Data Science Languages\n",
    "**Python**: Python is one of the most widely used languages in data science due to its extensive libraries like NumPy, Pandas, and scikit-learn.\n",
    "**R**: R is a language designed for statistical analysis and data visualisation. It's popular among stastisticians and data analysts.\n",
    "**SQL**: SQL(Structured Query Language) is essential for working with relational databases and extracting data.\n",
    "**Julia**: Julia is known for its high-performance capabilities and is used for scientific computing and data analysis.\n",
    "**SAS**: SAS is often used in enterprise settings for advanced analytics and data management.\n",
    "**Java**: Java is used in big data processing, particularly with frameworks like Hadoop and Spark.\n",
    "**Scala**: Scala is favored for its compatibility with Apache Spark, making it a choice for distributed data processing.\n",
    "**MATLAB**: MATLAB is used in academia and industry for numerical computing and data analysis.\n",
    "**Perl**: Perl is sometimes used for text processing and data extraction tasks.\n",
    "                                                                                        \n",
    "                                                                                        "
   ]
  },
  {
   "cell_type": "markdown",
   "id": "40ba1a75-ff42-4cc6-bd5f-4e0ec35af46e",
   "metadata": {},
   "source": [
    "#Data Science Libraries\n",
    "Python, as a leading language for data science, offers a rich ecosystem of libraries and tools.\n",
    "Here are some essential data science libraries:\n",
    "**NumPy**: A fundamental library for numerical computations in python, providing support for arrays and matrices.\n",
    "**Pandas**: Used for data manipulation and analysis, particularly handling for structured data through data frames.\n",
    "**Matplotlib**: A versatile library for creating static, animated, and interactive visualisation.\n",
    "**Seaborn**: Built on Matplotlib, it simplifies data visualisation, and offers attractive statistical plots.\n",
    "**Scikit-Learn**: A machine learning librarywith tools for classification, regression, clustering, and more.\n",
    "**TensorFlow**: An open-source machine learning framework developed by Google for deep learning and neural networks.\n",
    "**Keras**: A high-level neural networks API that runs on the top of TensorFlow, Theano, or CNTK.\n",
    "**PyTorch**: A deep learning framework that's popular for research and development in AI.\n",
    "**Stasmodels**: Used for estimating and interpretating statistical models.\n",
    "**NLTK(Natural Language Toolkit)**: A library for working with human language data, particularly in NLP tasks.\n",
    "**Beautiful Soup**: A library for web scraping and parsing HTML and XML documents.\n",
    "These libraries empower data scientists to perform a wide range of tasks, from data preprocessing and analysis to machine learning and deep learning."
   ]
  },
  {
   "cell_type": "markdown",
   "id": "74d17edb-12d3-4d77-a187-f33000e948ab",
   "metadata": {},
   "source": [
    "# Data Science Tools\n",
    "\n",
    "| Category                   | Tool                                 | Description                                                  |\n",
    "---------------------------------------------------------------------------------------------------------------------------------\n",
    "**Programming Languages**    Python                                 General-purpose programming language with extensive libraries for data science. \n",
    "                             R                                      Statistical programming language with a focus on data analysis and visualization. \n",
    "                             SQL                                    Language for managing and querying relational databases.     \n",
    "\n",
    "**Data Manipulation**        Pandas                                 Data manipulation and analysis library for Python.           \n",
    "                             dplyr (R)                              A grammar of data manipulation in R.                         \n",
    "                             SQL (Database Queries)                 Structured Query Language for database operations.           \n",
    "\n",
    "**Data Visualization**       Matplotlib                             2D plotting library for Python.                               \n",
    "                             Seaborn                                Statistical data visualization based on Matplotlib.          \n",
    "                             ggplot2 (R)                            Data visualization package based on the grammar of graphics.  \n",
    "                             Tableau                                Business intelligence and data visualization tool.           \n",
    "\n",
    "**Machine Learning**         Scikit-learn                           Simple and efficient tools for data mining and data analysis in Python. \n",
    "                             TensorFlow                             Open-source machine learning framework developed by Google. \n",
    "                             PyTorch                                Deep learning library for Python.                             \n",
    "                             XGBoost                                Gradient boosting library for machine learning.               \n",
    "\n",
    "**Big Data**                 Apache Hadoop                          Distributed storage and processing of large data sets.\n",
    "                             Apache Spark                           Open-source distributed computing system.  \n",
    "                             Apache Flink                           Stream processing framework for big data processing.         \n",
    "\n",
    "**Data Storage**             MySQL                                  Open-source relational database management system.\n",
    "                             PostgreSQL                             Object-relational database system.         \n",
    "                             MongoDB                                NoSQL document database for unstructured data.               \n",
    "\n",
    "**Version Control**          Git                                    Distributed version control system.\n",
    "                             GitHub                                 Web-based platform for version control and collaboration.   \n",
    "\n",
    "**Notebook Environments**    Jupyter Notebook                       Open-source web application for creating and sharing documents that contain                                                                              live code, equations, visualizations, and narrative text.\n",
    "\n",
    "                             RStudio                                Integrated development environment for R.\n",
    "                          \n",
    "**Collaboration**            Slack                                  Messaging platform for teams.\n",
    "                             Microsoft Teams                        Collaboration platform for chat, video, and file sharing.     \n",
    "\n",
    "**Note:** This table includes just a selection of popular tools in each category. There are many other tools available that cater to different needs and preferences.\n"
   ]
  },
  {
   "cell_type": "markdown",
   "id": "b927828b-cbaa-47f3-81a6-ea26cfc082a7",
   "metadata": {},
   "source": [
    "#Arithmetic Expressions Examples\n",
    "\n",
    "Arithmetic expressions involve mathematical operations like addition, subtraction, multiplication, and division.\n",
    "These expressions are fundamental in mathematics and often used in programming and data analysis.\n",
    "Here are some examples:\n",
    "\n",
    "##Addition\n",
    "2 + 3   \n",
    "#Result: 5\n",
    "    \n",
    "##Subtraction\n",
    "7-3\n",
    "#Result: 4\n",
    "\n",
    "##Multiplication\n",
    "8*6\n",
    "#Result: 48\n",
    "\n",
    "#Division\n",
    "12/3\n",
    "#Result: 4\n"
   ]
  },
  {
   "cell_type": "code",
   "execution_count": 2,
   "id": "6c490503-3c68-4f68-b751-73b5683f6685",
   "metadata": {},
   "outputs": [
    {
     "name": "stdout",
     "output_type": "stream",
     "text": [
      "The result of the expression (3 * 4) + 5 is: 17\n"
     ]
    }
   ],
   "source": [
    "#Evaluate Expression\n",
    "\n",
    "#Define the expression\n",
    "result = (3 * 4) + 5\n",
    "\n",
    "# Display the result\n",
    "print(f\"The result of the expression (3 * 4) + 5 is: {result}\")\n"
   ]
  },
  {
   "cell_type": "code",
   "execution_count": 1,
   "id": "28728465-bda0-43ad-9b53-69c48ee850dd",
   "metadata": {},
   "outputs": [
    {
     "name": "stdout",
     "output_type": "stream",
     "text": [
      "200 minutes is equal to 3.3333333333333335 hours.\n"
     ]
    }
   ],
   "source": [
    "#Convert Minutes to Hours Example\n",
    "\n",
    "#Define the number of minutes\n",
    "minutes = 200\n",
    "\n",
    "#Convert minutes to hours\n",
    "hours = minutes / 60\n",
    "\n",
    "#Display the result\n",
    "print(f\"{minutes} minutes is equal to {hours} hours.\")\n"
   ]
  },
  {
   "cell_type": "markdown",
   "id": "4680a0d1-6648-4fef-8149-fbcda476f5b6",
   "metadata": {},
   "source": [
    "##Author:\n",
    "Aishwarya Singh"
   ]
  }
 ],
 "metadata": {
  "kernelspec": {
   "display_name": "Python 3 (ipykernel)",
   "language": "python",
   "name": "python3"
  },
  "language_info": {
   "codemirror_mode": {
    "name": "ipython",
    "version": 3
   },
   "file_extension": ".py",
   "mimetype": "text/x-python",
   "name": "python",
   "nbconvert_exporter": "python",
   "pygments_lexer": "ipython3",
   "version": "3.12.0"
  }
 },
 "nbformat": 4,
 "nbformat_minor": 5
}
